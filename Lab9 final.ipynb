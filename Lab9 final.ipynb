{
 "metadata": {
  "name": "",
  "signature": "sha256:e690178bc6709994aee1d1b88f99afd0559100125fcef82253cf7f560f9acf07"
 },
 "nbformat": 3,
 "nbformat_minor": 0,
 "worksheets": [
  {
   "cells": [
    {
     "cell_type": "code",
     "collapsed": false,
     "input": [
      "import pylab\n",
      "import pandas as pd\n",
      "import numpy as np\n",
      "#import future\n",
      "\n",
      "sensors = pd.read_table(\"cleaning1/3532/lanes.txt\", header=None, delim_whitespace=True, \n",
      "                     na_values=['-'], error_bad_lines=False)\n",
      "cols = len(sensors.columns)"
     ],
     "language": "python",
     "metadata": {},
     "outputs": [],
     "prompt_number": 1
    },
    {
     "cell_type": "code",
     "collapsed": false,
     "input": [
      "cols"
     ],
     "language": "python",
     "metadata": {},
     "outputs": [
      {
       "metadata": {},
       "output_type": "pyout",
       "prompt_number": 2,
       "text": [
        "6"
       ]
      }
     ],
     "prompt_number": 2
    },
    {
     "cell_type": "code",
     "collapsed": false,
     "input": [
      "flow = pd.read_table(\"cleaning1/3532/flow.tsv\", na_values=['-'], names=['one', 'two','three', 'four', 'five', 'six']) \n",
      "flow = flow.iloc[::100, :]\n",
      "speed = pd.read_table(\"cleaning1/3532/speed.tsv\", na_values=['-'], names=['one', 'two','three', 'four', 'five', 'six'])\n",
      "speed = speed.iloc[::100, :]\n",
      "occupancy = pd.read_table(\"cleaning1/3532/occupancy.tsv\", na_values=['-'], names=['one', 'two','three', 'four', 'five', 'six'])\n",
      "occupancy = occupancy.iloc[::100, :]"
     ],
     "language": "python",
     "metadata": {},
     "outputs": [],
     "prompt_number": 3
    },
    {
     "cell_type": "code",
     "collapsed": false,
     "input": [
      "rows = len(flow)\n",
      "rows"
     ],
     "language": "python",
     "metadata": {},
     "outputs": [
      {
       "metadata": {},
       "output_type": "pyout",
       "prompt_number": 4,
       "text": [
        "31211"
       ]
      }
     ],
     "prompt_number": 4
    },
    {
     "cell_type": "code",
     "collapsed": false,
     "input": [
      "vectors = pd.DataFrame()\n",
      "vect_flow = []\n",
      "vect_speed = []\n",
      "vect_occ = []\n",
      "for i in range(rows):\n",
      "    for j in range(cols):\n",
      "        vect_flow.append(flow.iloc[i][j])\n",
      "        vect_speed.append(speed.iloc[i][j])\n",
      "        vect_occ.append(occupancy.iloc[i][j])\n",
      "        "
     ],
     "language": "python",
     "metadata": {},
     "outputs": [],
     "prompt_number": 5
    },
    {
     "cell_type": "code",
     "collapsed": false,
     "input": [
      "vectors['flow'] = vect_flow\n",
      "vectors['speed'] = vect_speed\n",
      "vectors['occupancy'] = vect_occ\n",
      "vectors = vectors[pd.notnull(vectors['flow'])]\n",
      "vectors = vectors[pd.notnull(vectors['speed'])]\n",
      "vectors = vectors[pd.notnull(vectors['occupancy'])]\n",
      "\n",
      "vectors[:5]  #shit works!\n",
      "len(vectors)"
     ],
     "language": "python",
     "metadata": {},
     "outputs": [
      {
       "metadata": {},
       "output_type": "pyout",
       "prompt_number": 6,
       "text": [
        "187253"
       ]
      }
     ],
     "prompt_number": 6
    },
    {
     "cell_type": "code",
     "collapsed": false,
     "input": [
      "len(vectors)\n",
      "vectors.shape"
     ],
     "language": "python",
     "metadata": {},
     "outputs": [
      {
       "metadata": {},
       "output_type": "pyout",
       "prompt_number": 7,
       "text": [
        "(187253, 3)"
       ]
      }
     ],
     "prompt_number": 7
    },
    {
     "cell_type": "code",
     "collapsed": false,
     "input": [
      "print vectors['flow'].min(), vectors['flow'].max()\n",
      "print vectors['speed'].min(), vectors['speed'].max()\n",
      "print vectors['occupancy'].min(), vectors['occupancy'].max()"
     ],
     "language": "python",
     "metadata": {},
     "outputs": [
      {
       "output_type": "stream",
       "stream": "stdout",
       "text": [
        "-51.0 64.0\n",
        "-38.7 186.8\n",
        "0.0 "
       ]
      },
      {
       "output_type": "stream",
       "stream": "stdout",
       "text": [
        "100.0\n"
       ]
      }
     ],
     "prompt_number": 8
    },
    {
     "cell_type": "code",
     "collapsed": false,
     "input": [
      "def GetFlowRange(row):\n",
      "    if row['flow'] < 0:\n",
      "        return '-50 - 0'\n",
      "    elif row['flow'] < 50:\n",
      "        return '0 - 50'\n",
      "    elif row['flow'] < 100:\n",
      "        return '50 - 100'\n",
      "    elif row['flow'] < 150:\n",
      "        return '100 - 150'\n",
      "    elif row['flow'] < 200:\n",
      "        return '150 - 200'\n",
      "    elif row['flow'] < 250:\n",
      "        return '200 - 250'\n",
      "    elif row['flow'] < 300:\n",
      "        return '250 - 300'\n",
      "    else:\n",
      "        return None"
     ],
     "language": "python",
     "metadata": {},
     "outputs": [],
     "prompt_number": 9
    },
    {
     "cell_type": "code",
     "collapsed": false,
     "input": [
      "vectors['flowRange'] = vectors.apply(GetFlowRange, axis=1).dropna()"
     ],
     "language": "python",
     "metadata": {},
     "outputs": [],
     "prompt_number": 10
    },
    {
     "cell_type": "code",
     "collapsed": false,
     "input": [
      "import matplotlib.pyplot as plt\n",
      "%matplotlib inline\n",
      "gv = vectors.groupby('flowRange').size()\n",
      "gv.plot(kind='bar')"
     ],
     "language": "python",
     "metadata": {},
     "outputs": [
      {
       "metadata": {},
       "output_type": "pyout",
       "prompt_number": 11,
       "text": [
        "<matplotlib.axes.AxesSubplot at 0x7f3f03a67f50>"
       ]
      },
      {
       "metadata": {},
       "output_type": "display_data",
       "png": "[encoded data removed]",
       "text": [
        "<matplotlib.figure.Figure at 0x7f3f03a67950>"
       ]
      }
     ],
     "prompt_number": 11
    },
    {
     "cell_type": "code",
     "collapsed": false,
     "input": [
      "def GetSpeedRange(row):\n",
      "    if row['flow'] < -30:\n",
      "        return '-60 - -30'\n",
      "    elif row['flow'] < 0:\n",
      "        return '-30 - 0'\n",
      "    elif row['flow'] < 30:\n",
      "        return '0 - 30'\n",
      "    elif row['flow'] < 60:\n",
      "        return '30 - 60'\n",
      "    elif row['flow'] < 90:\n",
      "        return '60 - 90'\n",
      "    elif row['flow'] < 120:\n",
      "        return '90 - 120'\n",
      "    elif row['flow'] < 150:\n",
      "        return '120 - 150'\n",
      "    elif row['flow'] < 180:\n",
      "        return '150 - 180'\n",
      "    else:\n",
      "        return None\n",
      "    \n",
      "vectors['speedRange'] = vectors.apply(GetSpeedRange, axis=1).dropna()\n",
      "gs = vectors.groupby('speedRange').size().div(len(vectors))\n",
      "gs.plot(kind='bar')"
     ],
     "language": "python",
     "metadata": {},
     "outputs": [
      {
       "metadata": {},
       "output_type": "pyout",
       "prompt_number": 12,
       "text": [
        "<matplotlib.axes.AxesSubplot at 0x7f3f037a6e90>"
       ]
      },
      {
       "metadata": {},
       "output_type": "display_data",
       "png": "[encoded data removed]",
       "text": [
        "<matplotlib.figure.Figure at 0x7f3f0373a210>"
       ]
      }
     ],
     "prompt_number": 12
    },
    {
     "cell_type": "code",
     "collapsed": false,
     "input": [
      "def GetOccupancyRange(row):\n",
      "    if row['occupancy'] < 10:\n",
      "        return '10'\n",
      "    elif row['occupancy'] < 20:\n",
      "        return '20'\n",
      "    elif row['occupancy'] < 30:\n",
      "        return '30'\n",
      "    elif row['occupancy'] < 40:\n",
      "        return '40'\n",
      "    elif row['occupancy'] < 50:\n",
      "        return '50'\n",
      "    elif row['occupancy'] < 60:\n",
      "        return '60'\n",
      "    elif row['occupancy'] < 70:\n",
      "        return '70'\n",
      "    elif row['occupancy'] < 80:\n",
      "        return '80'\n",
      "    else:\n",
      "        return None\n",
      "    \n",
      "vectors['occupancyRange'] = vectors.apply(GetOccupancyRange, axis=1).dropna()\n",
      "gs = vectors.groupby('occupancyRange').size().div(len(vectors))\n",
      "gs.plot(kind='bar')"
     ],
     "language": "python",
     "metadata": {},
     "outputs": [
      {
       "metadata": {},
       "output_type": "pyout",
       "prompt_number": 13,
       "text": [
        "<matplotlib.axes.AxesSubplot at 0x7f3f035fc190>"
       ]
      },
      {
       "metadata": {},
       "output_type": "display_data",
       "png": "[encoded data removed]",
       "text": [
        "<matplotlib.figure.Figure at 0x7f3f035fcd90>"
       ]
      }
     ],
     "prompt_number": 13
    },
    {
     "cell_type": "code",
     "collapsed": false,
     "input": [
      "sortedFlow = vectors.sort(['flow'], ascending=True)[['flow']]\n",
      "sortedSpeed = vectors.sort(['speed'], ascending=True)[['speed']]\n",
      "sortedOccupancy = vectors.sort(['occupancy'], ascending=True)[['occupancy']]\n",
      "sortedFlow.head()"
     ],
     "language": "python",
     "metadata": {},
     "outputs": [
      {
       "html": [
        "<div style=\"max-height:1000px;max-width:1500px;overflow:auto;\">\n",
        "<table border=\"1\" class=\"dataframe\">\n",
        "  <thead>\n",
        "    <tr style=\"text-align: right;\">\n",
        "      <th></th>\n",
        "      <th>flow</th>\n",
        "    </tr>\n",
        "  </thead>\n",
        "  <tbody>\n",
        "    <tr>\n",
        "      <th>59663 </th>\n",
        "      <td>-51</td>\n",
        "    </tr>\n",
        "    <tr>\n",
        "      <th>55981 </th>\n",
        "      <td>-35</td>\n",
        "    </tr>\n",
        "    <tr>\n",
        "      <th>3628  </th>\n",
        "      <td>-34</td>\n",
        "    </tr>\n",
        "    <tr>\n",
        "      <th>76770 </th>\n",
        "      <td>-33</td>\n",
        "    </tr>\n",
        "    <tr>\n",
        "      <th>143362</th>\n",
        "      <td>-32</td>\n",
        "    </tr>\n",
        "  </tbody>\n",
        "</table>\n",
        "</div>"
       ],
       "metadata": {},
       "output_type": "pyout",
       "prompt_number": 14,
       "text": [
        "        flow\n",
        "59663    -51\n",
        "55981    -35\n",
        "3628     -34\n",
        "76770    -33\n",
        "143362   -32"
       ]
      }
     ],
     "prompt_number": 14
    },
    {
     "cell_type": "code",
     "collapsed": false,
     "input": [
      "def returnMedians(sortedColumn):\n",
      "    arr = []\n",
      "    for i in range(0,20):\n",
      "        point = ((len(sortedColumn)*i)//20)\n",
      "        arr.append(sortedColumn.iloc[point][0])\n",
      "    return arr"
     ],
     "language": "python",
     "metadata": {},
     "outputs": [],
     "prompt_number": 15
    },
    {
     "cell_type": "code",
     "collapsed": false,
     "input": [
      "newDf = pd.DataFrame(columns=['flow','speed','occupancy'])\n",
      "newDf['flow'] = returnMedians(sortedFlow)\n",
      "newDf['speed'] = returnMedians(sortedSpeed)\n",
      "newDf['occupancy'] = returnMedians(sortedOccupancy)"
     ],
     "language": "python",
     "metadata": {},
     "outputs": [],
     "prompt_number": 16
    },
    {
     "cell_type": "code",
     "collapsed": false,
     "input": [
      "newDf"
     ],
     "language": "python",
     "metadata": {},
     "outputs": [
      {
       "html": [
        "<div style=\"max-height:1000px;max-width:1500px;overflow:auto;\">\n",
        "<table border=\"1\" class=\"dataframe\">\n",
        "  <thead>\n",
        "    <tr style=\"text-align: right;\">\n",
        "      <th></th>\n",
        "      <th>flow</th>\n",
        "      <th>speed</th>\n",
        "      <th>occupancy</th>\n",
        "    </tr>\n",
        "  </thead>\n",
        "  <tbody>\n",
        "    <tr>\n",
        "      <th>0 </th>\n",
        "      <td>-51</td>\n",
        "      <td>-38.700000</td>\n",
        "      <td>  0</td>\n",
        "    </tr>\n",
        "    <tr>\n",
        "      <th>1 </th>\n",
        "      <td>  1</td>\n",
        "      <td>  9.320568</td>\n",
        "      <td>  1</td>\n",
        "    </tr>\n",
        "    <tr>\n",
        "      <th>2 </th>\n",
        "      <td>  2</td>\n",
        "      <td> 28.200000</td>\n",
        "      <td>  1</td>\n",
        "    </tr>\n",
        "    <tr>\n",
        "      <th>3 </th>\n",
        "      <td>  3</td>\n",
        "      <td> 41.400000</td>\n",
        "      <td>  2</td>\n",
        "    </tr>\n",
        "    <tr>\n",
        "      <th>4 </th>\n",
        "      <td>  5</td>\n",
        "      <td> 43.495983</td>\n",
        "      <td>  3</td>\n",
        "    </tr>\n",
        "    <tr>\n",
        "      <th>5 </th>\n",
        "      <td>  6</td>\n",
        "      <td> 45.000000</td>\n",
        "      <td>  3</td>\n",
        "    </tr>\n",
        "    <tr>\n",
        "      <th>6 </th>\n",
        "      <td>  8</td>\n",
        "      <td> 46.200000</td>\n",
        "      <td>  4</td>\n",
        "    </tr>\n",
        "    <tr>\n",
        "      <th>7 </th>\n",
        "      <td>  9</td>\n",
        "      <td> 46.800000</td>\n",
        "      <td>  5</td>\n",
        "    </tr>\n",
        "    <tr>\n",
        "      <th>8 </th>\n",
        "      <td> 11</td>\n",
        "      <td> 48.000000</td>\n",
        "      <td>  6</td>\n",
        "    </tr>\n",
        "    <tr>\n",
        "      <th>9 </th>\n",
        "      <td> 12</td>\n",
        "      <td> 48.600000</td>\n",
        "      <td>  7</td>\n",
        "    </tr>\n",
        "    <tr>\n",
        "      <th>10</th>\n",
        "      <td> 13</td>\n",
        "      <td> 49.200000</td>\n",
        "      <td>  8</td>\n",
        "    </tr>\n",
        "    <tr>\n",
        "      <th>11</th>\n",
        "      <td> 15</td>\n",
        "      <td> 49.800000</td>\n",
        "      <td>  8</td>\n",
        "    </tr>\n",
        "    <tr>\n",
        "      <th>12</th>\n",
        "      <td> 16</td>\n",
        "      <td> 50.952438</td>\n",
        "      <td>  9</td>\n",
        "    </tr>\n",
        "    <tr>\n",
        "      <th>13</th>\n",
        "      <td> 17</td>\n",
        "      <td> 51.600000</td>\n",
        "      <td> 10</td>\n",
        "    </tr>\n",
        "    <tr>\n",
        "      <th>14</th>\n",
        "      <td> 18</td>\n",
        "      <td> 52.400000</td>\n",
        "      <td> 11</td>\n",
        "    </tr>\n",
        "    <tr>\n",
        "      <th>15</th>\n",
        "      <td> 19</td>\n",
        "      <td> 53.400000</td>\n",
        "      <td> 12</td>\n",
        "    </tr>\n",
        "    <tr>\n",
        "      <th>16</th>\n",
        "      <td> 21</td>\n",
        "      <td> 54.600000</td>\n",
        "      <td> 13</td>\n",
        "    </tr>\n",
        "    <tr>\n",
        "      <th>17</th>\n",
        "      <td> 22</td>\n",
        "      <td> 55.923407</td>\n",
        "      <td> 15</td>\n",
        "    </tr>\n",
        "    <tr>\n",
        "      <th>18</th>\n",
        "      <td> 24</td>\n",
        "      <td> 59.400000</td>\n",
        "      <td> 21</td>\n",
        "    </tr>\n",
        "    <tr>\n",
        "      <th>19</th>\n",
        "      <td> 26</td>\n",
        "      <td> 70.200000</td>\n",
        "      <td> 43</td>\n",
        "    </tr>\n",
        "  </tbody>\n",
        "</table>\n",
        "</div>"
       ],
       "metadata": {},
       "output_type": "pyout",
       "prompt_number": 17,
       "text": [
        "    flow      speed  occupancy\n",
        "0    -51 -38.700000          0\n",
        "1      1   9.320568          1\n",
        "2      2  28.200000          1\n",
        "3      3  41.400000          2\n",
        "4      5  43.495983          3\n",
        "5      6  45.000000          3\n",
        "6      8  46.200000          4\n",
        "7      9  46.800000          5\n",
        "8     11  48.000000          6\n",
        "9     12  48.600000          7\n",
        "10    13  49.200000          8\n",
        "11    15  49.800000          8\n",
        "12    16  50.952438          9\n",
        "13    17  51.600000         10\n",
        "14    18  52.400000         11\n",
        "15    19  53.400000         12\n",
        "16    21  54.600000         13\n",
        "17    22  55.923407         15\n",
        "18    24  59.400000         21\n",
        "19    26  70.200000         43"
       ]
      }
     ],
     "prompt_number": 17
    },
    {
     "cell_type": "code",
     "collapsed": false,
     "input": [
      "def getGroup(row, newDf):\n",
      "    i = 0\n",
      "    j = 0\n",
      "    k = 0\n",
      "    while ((i < len(newDf)) and (row['speed'] > newDf['speed'][i])):\n",
      "        i = i + 1\n",
      "    while ((j < len(newDf)) and (row['flow'] > newDf['flow'][j])):\n",
      "        j = j + 1\n",
      "    while ((k < len(newDf)) and (row['occupancy'] > newDf['occupancy'][k])):\n",
      "        k = k + 1\n",
      "    if i!=0:\n",
      "        i = i-1\n",
      "    if j!=0:\n",
      "        j = j-1\n",
      "    if k!=0:\n",
      "        k = k-1\n",
      "        \n",
      "    return (newDf['flow'][j],newDf['speed'][i],newDf['occupancy'][k])"
     ],
     "language": "python",
     "metadata": {},
     "outputs": [],
     "prompt_number": 18
    },
    {
     "cell_type": "code",
     "collapsed": false,
     "input": [
      "vectors['group'] = vectors.apply(lambda x: getGroup(x,newDf), axis=1)"
     ],
     "language": "python",
     "metadata": {},
     "outputs": [],
     "prompt_number": 19
    },
    {
     "cell_type": "code",
     "collapsed": false,
     "input": [
      "groups = vectors.groupby('group').size()\n",
      "groups[:5]"
     ],
     "language": "python",
     "metadata": {},
     "outputs": [
      {
       "metadata": {},
       "output_type": "pyout",
       "prompt_number": 20,
       "text": [
        "group\n",
        "(-51.0, -38.7, 0.0)          2\n",
        "(-51.0, -38.7, 21.0)         8\n",
        "(-51.0, -38.7, 43.0)        63\n",
        "(-51.0, 9.32056788, 0.0)    66\n",
        "(-51.0, 9.32056788, 1.0)     5\n",
        "dtype: int64"
       ]
      }
     ],
     "prompt_number": 20
    },
    {
     "cell_type": "code",
     "collapsed": false,
     "input": [
      "def getVolume(group):\n",
      "    flow = group[0]\n",
      "    speed = group[1]\n",
      "    occu = group[2]\n",
      "    i = 0\n",
      "    j = 0\n",
      "    k = 0\n",
      "    while ( (i < len(newDf)) and (newDf['speed'][i] <= speed)):\n",
      "        i = i + 1\n",
      "    while((j < len(newDf)) and (newDf['flow'][j] <= flow)):\n",
      "        j = j+ 1\n",
      "    while((k < len(newDf) and (newDf['occupancy'][k] <= occu))):\n",
      "        k = k + 1\n",
      "    \n",
      "    if i == len(newDf):\n",
      "        i = sortedSpeed['speed'].max() - speed\n",
      "    else:\n",
      "        i = newDf['speed'][i]-speed\n",
      "    if j == len(newDf):\n",
      "        j = sortedFlow['flow'].max() - flow\n",
      "    else:\n",
      "        j = newDf['flow'][j]-flow\n",
      "    if k == len(newDf):\n",
      "        k = sortedOccupancy['occupancy'].max() - occu\n",
      "    else:\n",
      "        k = newDf['occupancy'][k]-occu\n",
      "    \n",
      "    return i*j*k"
     ],
     "language": "python",
     "metadata": {},
     "outputs": [],
     "prompt_number": 21
    },
    {
     "cell_type": "code",
     "collapsed": false,
     "input": [
      "vectors['volume'] = vectors.apply(lambda x: getVolume(x['group']), axis = 1)\n",
      "vectors[:5]"
     ],
     "language": "python",
     "metadata": {},
     "outputs": [
      {
       "html": [
        "<div style=\"max-height:1000px;max-width:1500px;overflow:auto;\">\n",
        "<table border=\"1\" class=\"dataframe\">\n",
        "  <thead>\n",
        "    <tr style=\"text-align: right;\">\n",
        "      <th></th>\n",
        "      <th>flow</th>\n",
        "      <th>speed</th>\n",
        "      <th>occupancy</th>\n",
        "      <th>flowRange</th>\n",
        "      <th>speedRange</th>\n",
        "      <th>occupancyRange</th>\n",
        "      <th>group</th>\n",
        "      <th>volume</th>\n",
        "    </tr>\n",
        "  </thead>\n",
        "  <tbody>\n",
        "    <tr>\n",
        "      <th>0</th>\n",
        "      <td> 17</td>\n",
        "      <td> 42.0</td>\n",
        "      <td>  9</td>\n",
        "      <td> 0 - 50</td>\n",
        "      <td> 0 - 30</td>\n",
        "      <td> 10</td>\n",
        "      <td>         (16.0, 41.4, 8.0)</td>\n",
        "      <td>   2.095983</td>\n",
        "    </tr>\n",
        "    <tr>\n",
        "      <th>1</th>\n",
        "      <td> 17</td>\n",
        "      <td> 53.4</td>\n",
        "      <td>  9</td>\n",
        "      <td> 0 - 50</td>\n",
        "      <td> 0 - 30</td>\n",
        "      <td> 10</td>\n",
        "      <td>         (16.0, 52.4, 8.0)</td>\n",
        "      <td>   1.000000</td>\n",
        "    </tr>\n",
        "    <tr>\n",
        "      <th>2</th>\n",
        "      <td> 26</td>\n",
        "      <td> 63.0</td>\n",
        "      <td> 13</td>\n",
        "      <td> 0 - 50</td>\n",
        "      <td> 0 - 30</td>\n",
        "      <td> 20</td>\n",
        "      <td>        (24.0, 59.4, 12.0)</td>\n",
        "      <td>  21.600000</td>\n",
        "    </tr>\n",
        "    <tr>\n",
        "      <th>3</th>\n",
        "      <td> 20</td>\n",
        "      <td> 49.8</td>\n",
        "      <td> 11</td>\n",
        "      <td> 0 - 50</td>\n",
        "      <td> 0 - 30</td>\n",
        "      <td> 20</td>\n",
        "      <td>        (19.0, 49.2, 10.0)</td>\n",
        "      <td>   1.200000</td>\n",
        "    </tr>\n",
        "    <tr>\n",
        "      <th>4</th>\n",
        "      <td> 27</td>\n",
        "      <td> 58.8</td>\n",
        "      <td> 14</td>\n",
        "      <td> 0 - 50</td>\n",
        "      <td> 0 - 30</td>\n",
        "      <td> 20</td>\n",
        "      <td> (26.0, 55.92340728, 13.0)</td>\n",
        "      <td> 264.221047</td>\n",
        "    </tr>\n",
        "  </tbody>\n",
        "</table>\n",
        "</div>"
       ],
       "metadata": {},
       "output_type": "pyout",
       "prompt_number": 22,
       "text": [
        "   flow  speed  occupancy flowRange speedRange occupancyRange  \\\n",
        "0    17   42.0          9    0 - 50     0 - 30             10   \n",
        "1    17   53.4          9    0 - 50     0 - 30             10   \n",
        "2    26   63.0         13    0 - 50     0 - 30             20   \n",
        "3    20   49.8         11    0 - 50     0 - 30             20   \n",
        "4    27   58.8         14    0 - 50     0 - 30             20   \n",
        "\n",
        "                       group      volume  \n",
        "0          (16.0, 41.4, 8.0)    2.095983  \n",
        "1          (16.0, 52.4, 8.0)    1.000000  \n",
        "2         (24.0, 59.4, 12.0)   21.600000  \n",
        "3         (19.0, 49.2, 10.0)    1.200000  \n",
        "4  (26.0, 55.92340728, 13.0)  264.221047  "
       ]
      }
     ],
     "prompt_number": 22
    },
    {
     "cell_type": "code",
     "collapsed": false,
     "input": [
      "def getProbDf(row):\n",
      "    if row['flow'] <= 0:\n",
      "        return 0\n",
      "    if row['speed'] <= 0:\n",
      "        return 0\n",
      "    if row['occupancy'] <= 0:\n",
      "        return 0\n",
      "    return groups[row['group']]/(len(vectors)*row['volume'])"
     ],
     "language": "python",
     "metadata": {},
     "outputs": [],
     "prompt_number": 23
    },
    {
     "cell_type": "code",
     "collapsed": false,
     "input": [
      "vectors['probability'] = vectors.apply(getProbDf, axis=1)"
     ],
     "language": "python",
     "metadata": {},
     "outputs": [],
     "prompt_number": 24
    },
    {
     "cell_type": "code",
     "collapsed": false,
     "input": [
      "vectorsss = vectors.sort(['probability'], ascending=True)[['speed','flow','occupancy','probability']]\n",
      "vectorsss['probability'] = vectorsss['probability'].round(8)\n",
      "vectorsss[:3]"
     ],
     "language": "python",
     "metadata": {},
     "outputs": [
      {
       "html": [
        "<div style=\"max-height:1000px;max-width:1500px;overflow:auto;\">\n",
        "<table border=\"1\" class=\"dataframe\">\n",
        "  <thead>\n",
        "    <tr style=\"text-align: right;\">\n",
        "      <th></th>\n",
        "      <th>speed</th>\n",
        "      <th>flow</th>\n",
        "      <th>occupancy</th>\n",
        "      <th>probability</th>\n",
        "    </tr>\n",
        "  </thead>\n",
        "  <tbody>\n",
        "    <tr>\n",
        "      <th>75947 </th>\n",
        "      <td> 144.0</td>\n",
        "      <td> 0</td>\n",
        "      <td>  0</td>\n",
        "      <td> 0</td>\n",
        "    </tr>\n",
        "    <tr>\n",
        "      <th>21691 </th>\n",
        "      <td>   3.6</td>\n",
        "      <td>-1</td>\n",
        "      <td> 58</td>\n",
        "      <td> 0</td>\n",
        "    </tr>\n",
        "    <tr>\n",
        "      <th>106428</th>\n",
        "      <td>  40.8</td>\n",
        "      <td> 0</td>\n",
        "      <td>  1</td>\n",
        "      <td> 0</td>\n",
        "    </tr>\n",
        "  </tbody>\n",
        "</table>\n",
        "</div>"
       ],
       "metadata": {},
       "output_type": "pyout",
       "prompt_number": 25,
       "text": [
        "        speed  flow  occupancy  probability\n",
        "75947   144.0     0          0            0\n",
        "21691     3.6    -1         58            0\n",
        "106428   40.8     0          1            0"
       ]
      }
     ],
     "prompt_number": 25
    },
    {
     "cell_type": "code",
     "collapsed": false,
     "input": [
      "vectorsss.to_csv('3532.txt', index=None, sep='\\t', mode='a')"
     ],
     "language": "python",
     "metadata": {},
     "outputs": [],
     "prompt_number": 26
    }
   ],
   "metadata": {}
  }
 ]
}